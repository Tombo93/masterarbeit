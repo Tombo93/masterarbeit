{
 "cells": [
  {
   "cell_type": "code",
   "execution_count": 9,
   "metadata": {},
   "outputs": [],
   "source": [
    "import os\n",
    "import pprint\n",
    "\n",
    "import numpy as np\n",
    "import pandas as pd"
   ]
  },
  {
   "cell_type": "code",
   "execution_count": 3,
   "metadata": {},
   "outputs": [],
   "source": [
    "root = os.path.abspath(os.path.join(\n",
    "            os.path.dirname(\"isic_diagnosis.ipynb\"), os.pardir))\n",
    "df = pd.read_csv(os.path.join(root, \"data\", \"interim\", \"isic\", \"metadata-diagnosis.csv\"))"
   ]
  },
  {
   "cell_type": "code",
   "execution_count": 41,
   "metadata": {},
   "outputs": [],
   "source": [
    "select_benign = df[\n",
    "    (df[\"benign_malignant\"]==\"benign\") |\n",
    "    (df[\"benign_malignant\"]==\"indeterminate/benign\") |\n",
    "    (df[\"benign_malignant\"]==\"indeterminate\")]\n",
    "select_malignant = df[\n",
    "    (df[\"benign_malignant\"]==\"malignant\") |\n",
    "    (df[\"benign_malignant\"]==\"indeterminate/malignant\")]\n",
    "normalize = False\n",
    "dropna = False\n",
    "col = \"diagnosis\""
   ]
  },
  {
   "cell_type": "markdown",
   "metadata": {},
   "source": [
    "## Benign diagnoses"
   ]
  },
  {
   "cell_type": "code",
   "execution_count": 42,
   "metadata": {},
   "outputs": [
    {
     "name": "stdout",
     "output_type": "stream",
     "text": [
      "diagnosis\n",
      "nevus                                 2674\n",
      "basal cell carcinoma                   315\n",
      "seborrheic keratosis                   287\n",
      "acrochordon                            283\n",
      "actinic keratosis                      230\n",
      "lentigo NOS                            137\n",
      "solar lentigo                          109\n",
      "lichenoid keratosis                     99\n",
      "squamous cell carcinoma                 49\n",
      "verruca                                 45\n",
      "atypical melanocytic proliferation      37\n",
      "dermatofibroma                          35\n",
      "vascular lesion                         18\n",
      "angioma                                 18\n",
      "lentigo simplex                         14\n",
      "other                                    8\n",
      "angiokeratoma                            6\n",
      "neurofibroma                             5\n",
      "scar                                     2\n",
      "pigmented benign keratosis               1\n",
      "clear cell acanthoma                     1\n",
      "angiofibroma or fibrous papule           1\n",
      "Name: count, dtype: int64\n"
     ]
    }
   ],
   "source": [
    "pprint.pprint(select_benign[col].value_counts(\n",
    "    normalize=normalize, dropna=dropna))"
   ]
  },
  {
   "cell_type": "markdown",
   "metadata": {},
   "source": [
    "## Malignant diagnoses"
   ]
  },
  {
   "cell_type": "code",
   "execution_count": 43,
   "metadata": {},
   "outputs": [
    {
     "name": "stdout",
     "output_type": "stream",
     "text": [
      "diagnosis\n",
      "melanoma                              1095\n",
      "basal cell carcinoma                   418\n",
      "squamous cell carcinoma                262\n",
      "melanoma metastasis                     21\n",
      "seborrheic keratosis                    12\n",
      "AIMP                                     3\n",
      "atypical melanocytic proliferation       2\n",
      "Name: count, dtype: int64\n"
     ]
    }
   ],
   "source": [
    "pprint.pprint(select_malignant[col].value_counts(\n",
    "    normalize=normalize, dropna=dropna\n",
    "))"
   ]
  },
  {
   "cell_type": "markdown",
   "metadata": {},
   "source": [
    "## Diagnosis confusion matrix"
   ]
  },
  {
   "cell_type": "code",
   "execution_count": 4,
   "metadata": {},
   "outputs": [],
   "source": [
    "df = pd.read_csv(os.path.join(root, \"reports\", \"isic\", \"diagnosis\", \"diagnosis-classifier-test.csv\"))"
   ]
  },
  {
   "cell_type": "code",
   "execution_count": 20,
   "metadata": {},
   "outputs": [
    {
     "name": "stderr",
     "output_type": "stream",
     "text": [
      "/tmp/ipykernel_7756/1305975368.py:3: DeprecationWarning: The binary mode of fromstring is deprecated, as it behaves surprisingly on unicode inputs. Use frombuffer instead\n",
      "  np.fromstring(conf_mat)\n"
     ]
    },
    {
     "data": {
      "text/plain": [
       "'[[  12    0   17    7    0    6    5    0    1]\\n [   7    0   21    9    0    5    5    0    2]\\n [   9    0   84   15    0   10   18    0    8]\\n [   7    0   24 1516    0   22   56    0    9]\\n [   1    0    2    1    0    3    3    0    2]\\n [   4    0   11   21    0   97   89    0    0]\\n [   4    0    4   44    0   24  461    0    0]\\n [   3    0    8   14    0   15   12    0    1]\\n [   2    0   22    7    0    5    4    0   11]]'"
      ]
     },
     "execution_count": 20,
     "metadata": {},
     "output_type": "execute_result"
    }
   ],
   "source": [
    "conf_mat = df[\"MulticlassConfusionMatrix\"].iloc[-1]\n",
    "# np.reshape(np.fromstring(conf_mat), (9,9))\n",
    "np.fromstring(conf_mat)\n",
    "conf_mat"
   ]
  }
 ],
 "metadata": {
  "kernelspec": {
   "display_name": "MA",
   "language": "python",
   "name": "python3"
  },
  "language_info": {
   "codemirror_mode": {
    "name": "ipython",
    "version": 3
   },
   "file_extension": ".py",
   "mimetype": "text/x-python",
   "name": "python",
   "nbconvert_exporter": "python",
   "pygments_lexer": "ipython3",
   "version": "3.11.3"
  }
 },
 "nbformat": 4,
 "nbformat_minor": 2
}
