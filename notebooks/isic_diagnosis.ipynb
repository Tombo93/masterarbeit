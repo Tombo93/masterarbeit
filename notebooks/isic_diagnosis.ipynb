{
 "cells": [
  {
   "cell_type": "code",
   "execution_count": 10,
   "metadata": {},
   "outputs": [],
   "source": [
    "import os\n",
    "import pprint\n",
    "\n",
    "import pandas as pd"
   ]
  },
  {
   "cell_type": "code",
   "execution_count": 11,
   "metadata": {},
   "outputs": [],
   "source": [
    "root = os.path.abspath(os.path.join(\n",
    "            os.path.dirname(\"isic_diagnosis.ipynb\"), os.pardir))\n",
    "df = pd.read_csv(os.path.join(root, \"data\", \"interim\", \"isic\", \"metadata-diagnosis.csv\"))"
   ]
  },
  {
   "cell_type": "code",
   "execution_count": 41,
   "metadata": {},
   "outputs": [],
   "source": [
    "select_benign = df[\n",
    "    (df[\"benign_malignant\"]==\"benign\") |\n",
    "    (df[\"benign_malignant\"]==\"indeterminate/benign\") |\n",
    "    (df[\"benign_malignant\"]==\"indeterminate\")]\n",
    "select_malignant = df[\n",
    "    (df[\"benign_malignant\"]==\"malignant\") |\n",
    "    (df[\"benign_malignant\"]==\"indeterminate/malignant\")]\n",
    "normalize = False\n",
    "dropna = False\n",
    "col = \"diagnosis\""
   ]
  },
  {
   "cell_type": "markdown",
   "metadata": {},
   "source": [
    "## Benign diagnoses"
   ]
  },
  {
   "cell_type": "code",
   "execution_count": 42,
   "metadata": {},
   "outputs": [
    {
     "name": "stdout",
     "output_type": "stream",
     "text": [
      "diagnosis\n",
      "nevus                                 2674\n",
      "basal cell carcinoma                   315\n",
      "seborrheic keratosis                   287\n",
      "acrochordon                            283\n",
      "actinic keratosis                      230\n",
      "lentigo NOS                            137\n",
      "solar lentigo                          109\n",
      "lichenoid keratosis                     99\n",
      "squamous cell carcinoma                 49\n",
      "verruca                                 45\n",
      "atypical melanocytic proliferation      37\n",
      "dermatofibroma                          35\n",
      "vascular lesion                         18\n",
      "angioma                                 18\n",
      "lentigo simplex                         14\n",
      "other                                    8\n",
      "angiokeratoma                            6\n",
      "neurofibroma                             5\n",
      "scar                                     2\n",
      "pigmented benign keratosis               1\n",
      "clear cell acanthoma                     1\n",
      "angiofibroma or fibrous papule           1\n",
      "Name: count, dtype: int64\n"
     ]
    }
   ],
   "source": [
    "pprint.pprint(select_benign[col].value_counts(\n",
    "    normalize=normalize, dropna=dropna))"
   ]
  },
  {
   "cell_type": "markdown",
   "metadata": {},
   "source": [
    "## Malignant diagnoses"
   ]
  },
  {
   "cell_type": "code",
   "execution_count": 43,
   "metadata": {},
   "outputs": [
    {
     "name": "stdout",
     "output_type": "stream",
     "text": [
      "diagnosis\n",
      "melanoma                              1095\n",
      "basal cell carcinoma                   418\n",
      "squamous cell carcinoma                262\n",
      "melanoma metastasis                     21\n",
      "seborrheic keratosis                    12\n",
      "AIMP                                     3\n",
      "atypical melanocytic proliferation       2\n",
      "Name: count, dtype: int64\n"
     ]
    }
   ],
   "source": [
    "pprint.pprint(select_malignant[col].value_counts(\n",
    "    normalize=normalize, dropna=dropna\n",
    "))"
   ]
  }
 ],
 "metadata": {
  "kernelspec": {
   "display_name": "MA",
   "language": "python",
   "name": "python3"
  },
  "language_info": {
   "codemirror_mode": {
    "name": "ipython",
    "version": 3
   },
   "file_extension": ".py",
   "mimetype": "text/x-python",
   "name": "python",
   "nbconvert_exporter": "python",
   "pygments_lexer": "ipython3",
   "version": "3.11.3"
  }
 },
 "nbformat": 4,
 "nbformat_minor": 2
}
